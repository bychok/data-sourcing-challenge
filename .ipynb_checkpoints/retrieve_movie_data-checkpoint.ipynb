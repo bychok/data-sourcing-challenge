{
 "cells": [
  {
   "cell_type": "markdown",
   "metadata": {},
   "source": [
    "### Import Required Libraries and Set Up Environment Variables"
   ]
  },
  {
   "cell_type": "code",
   "execution_count": 1,
   "metadata": {},
   "outputs": [],
   "source": [
    "# Dependencies\n",
    "import requests\n",
    "import time\n",
    "from dotenv import load_dotenv\n",
    "import os\n",
    "import pandas as pd\n",
    "import json"
   ]
  },
  {
   "cell_type": "code",
   "execution_count": 2,
   "metadata": {},
   "outputs": [],
   "source": [
    "# Set environment variables from the .env in the local environment\n",
    "load_dotenv()\n",
    "\n",
    "nyt_api_key = os.getenv(\"NYT_API_KEY\")\n",
    "tmdb_api_key = os.getenv(\"TMDB_API_KEY\")"
   ]
  },
  {
   "cell_type": "markdown",
   "metadata": {},
   "source": [
    "### Access the New York Times API"
   ]
  },
  {
   "cell_type": "code",
   "execution_count": 3,
   "metadata": {},
   "outputs": [],
   "source": [
    "# Set the base URL\n",
    "url = \"https://api.nytimes.com/svc/search/v2/articlesearch.json?\"\n",
    "\n",
    "# Filter for movie reviews with \"love\" in the headline\n",
    "# section_name should be \"Movies\"\n",
    "# type_of_material should be \"Review\"\n",
    "filter_query = 'section_name:\"Movies\" AND type_of_material:\"Review\" AND headline:\"love\"'\n",
    "\n",
    "# Use a sort filter, sort by newest\n",
    "sort = \"newest\"\n",
    "\n",
    "# Select the following fields to return:\n",
    "# headline, web_url, snippet, source, keywords, pub_date, byline, word_count\n",
    "field_list = \"headline,web_url,snippet,source,keywords,pub_date,byline,word_count\"\n",
    "\n",
    "# Search for reviews published between a begin and end date\n",
    "begin_date = \"20130101\"\n",
    "end_date = \"20230531\"\n",
    "\n",
    "# Build URL\n"
   ]
  },
  {
   "cell_type": "code",
   "execution_count": 4,
   "metadata": {},
   "outputs": [
    {
     "name": "stdout",
     "output_type": "stream",
     "text": [
      "Checked page 0\n",
      "Checked page 1\n"
     ]
    }
   ],
   "source": [
    "# Create an empty list to store the reviews\n",
    "reviews_list = []\n",
    "\n",
    "# loop through pages 0-19\n",
    "for page in range(2):\n",
    "    # create query with a page number\n",
    "    # API results show 10 articles at a time\n",
    "\n",
    "    # Append the page number to the URL\n",
    "    page_url = f'{url}&page={page}'\n",
    "\n",
    "    # Make the GET request\n",
    "    response = requests.get(page_url)\n",
    "    data = response.json()\n",
    "\n",
    "    # Always print \"Checked page X\" regardless of the response content\n",
    "    print(f\"Checked page {page}\")\n",
    "\n",
    "    # Wait for twelve seconds to respect the API rate limit\n",
    "    time.sleep(12)"
   ]
  },
  {
   "cell_type": "code",
   "execution_count": 5,
   "metadata": {},
   "outputs": [
    {
     "name": "stdout",
     "output_type": "stream",
     "text": [
      "[]\n"
     ]
    }
   ],
   "source": [
    "# Preview the first 5 results in JSON format\n",
    "# Use json.dumps with argument indent=4 to format data\n",
    "preview = reviews_list[:5]\n",
    "print(json.dumps(preview, indent=4))"
   ]
  },
  {
   "cell_type": "code",
   "execution_count": 6,
   "metadata": {},
   "outputs": [
    {
     "name": "stdout",
     "output_type": "stream",
     "text": [
      "Empty DataFrame\n",
      "Columns: []\n",
      "Index: []\n"
     ]
    }
   ],
   "source": [
    "# Convert reviews_list to a Pandas DataFrame using json_normalize()\n",
    "reviews_df = pd.json_normalize(reviews_list)\n",
    "\n",
    "# Display the DataFrame\n",
    "print(reviews_df.head())"
   ]
  },
  {
   "cell_type": "code",
   "execution_count": 7,
   "metadata": {},
   "outputs": [],
   "source": [
    "# Extract the title from the \"headline.main\" column and\n",
    "# save it to a new column \"title\"\n",
    "# Title is between unicode characters \\u2018 and \\u2019. \n",
    "# End string should include \" Review\" to avoid cutting title early\n"
   ]
  },
  {
   "cell_type": "code",
   "execution_count": 8,
   "metadata": {},
   "outputs": [],
   "source": [
    "# Extract 'name' and 'value' from items in \"keywords\" column\n",
    "def extract_keywords(keyword_list):\n",
    "    extracted_keywords = \"\"\n",
    "    for item in keyword_list:\n",
    "        # Extract 'name' and 'value'\n",
    "        keyword = f\"{item['name']}: {item['value']};\" \n",
    "        # Append the keyword item to the extracted_keywords list\n",
    "        extracted_keywords += keyword\n",
    "    return extracted_keywords\n",
    "\n",
    "# Fix the \"keywords\" column by converting cells from a list to a string\n"
   ]
  },
  {
   "cell_type": "code",
   "execution_count": 9,
   "metadata": {
    "scrolled": true
   },
   "outputs": [],
   "source": [
    "# Create a list from the \"title\" column using to_list()\n",
    "# These titles will be used in the query for The Movie Database\n"
   ]
  },
  {
   "cell_type": "markdown",
   "metadata": {},
   "source": [
    "### Access The Movie Database API"
   ]
  },
  {
   "cell_type": "code",
   "execution_count": 19,
   "metadata": {},
   "outputs": [
    {
     "name": "stdout",
     "output_type": "stream",
     "text": [
      "&api_key=72bea4e1e11e27376ecd6fdf77e9d489\n"
     ]
    }
   ],
   "source": [
    "# Prepare The Movie Database query\n",
    "url = \"https://api.themoviedb.org/3/search/movie?query=\"\n",
    "tmdb_key_string = \"&api_key=\" + tmdb_api_key"
   ]
  },
  {
   "cell_type": "code",
   "execution_count": 20,
   "metadata": {},
   "outputs": [
    {
     "name": "stdout",
     "output_type": "stream",
     "text": [
      "Found and added details for Inception\n",
      "Found and added details for Avatar\n",
      "Found and added details for The Matrix\n",
      "Found and added details for Interstellar\n",
      "Found and added details for Gladiator\n",
      "[{'title': 'Inception', 'genres': ['Action', 'Science Fiction', 'Adventure'], 'languages': ['English', 'French', 'Japanese', 'Swahili'], 'countries': ['United Kingdom', 'United States of America']}, {'title': 'Avatar', 'genres': ['Action', 'Adventure', 'Fantasy', 'Science Fiction'], 'languages': ['English', 'Spanish'], 'countries': ['United States of America', 'United Kingdom']}, {'title': 'The Matrix', 'genres': ['Action', 'Science Fiction'], 'languages': ['English'], 'countries': ['United States of America']}, {'title': 'Interstellar', 'genres': ['Adventure', 'Drama', 'Science Fiction'], 'languages': ['English'], 'countries': ['United Kingdom', 'United States of America']}, {'title': 'Gladiator', 'genres': ['Action', 'Drama', 'Adventure'], 'languages': ['English'], 'countries': ['United Kingdom', 'United States of America']}]\n"
     ]
    }
   ],
   "source": [
    "# Create an empty list to store the results\n",
    "\n",
    "\n",
    "# Create a request counter to sleep the requests after a multiple\n",
    "# of 50 requests\n",
    "\n",
    "\n",
    "# Loop through the titles\n",
    "\n",
    "    # Check if we need to sleep before making a request\n",
    "\n",
    "\n",
    "    # Add 1 to the request counter\n",
    "\n",
    "    \n",
    "    # Perform a \"GET\" request for The Movie Database\n",
    "\n",
    "\n",
    "    # Include a try clause to search for the full movie details.\n",
    "    # Use the except clause to print out a statement if a movie\n",
    "    # is not found.\n",
    "\n",
    "        # Get movie id\n",
    "\n",
    "\n",
    "        # Make a request for a the full movie details\n",
    "\n",
    "\n",
    "        # Execute \"GET\" request with url\n",
    "\n",
    "        \n",
    "        # Extract the genre names into a list\n",
    "\n",
    "\n",
    "        # Extract the spoken_languages' English name into a list\n",
    "\n",
    "\n",
    "        # Extract the production_countries' name into a list\n",
    "\n",
    "\n",
    "        # Add the relevant data to a dictionary and\n",
    "        # append it to the tmdb_movies_list list\n",
    "\n",
    "        \n",
    "        # Print out the title that was found\n",
    "\n",
    "tmdb_movies_list = []\n",
    "\n",
    "# Create a request counter to sleep the requests after a multiple of 50 requests\n",
    "request_counter = 0\n",
    "\n",
    "# Dummy list of movie titles for the sake of the example\n",
    "movie_titles = [\"Inception\", \"Avatar\", \"The Matrix\", \"Interstellar\", \"Gladiator\"]\n",
    "\n",
    "# Loop through the titles\n",
    "for title in movie_titles:\n",
    "    # Check if we need to sleep before making a request\n",
    "    if request_counter and request_counter % 50 == 0:\n",
    "        print(\"Sleeping for 10 seconds to avoid hitting API rate limit\")\n",
    "        time.sleep(10)  # Sleep for 10 seconds to respect rate limits\n",
    "\n",
    "    # Add 1 to the request counter\n",
    "    request_counter += 1\n",
    "\n",
    "    # Perform a \"GET\" request for The Movie Database\n",
    "    search_response = requests.get(url + title + tmdb_key_string)\n",
    "    search_data = search_response.json()\n",
    "\n",
    "    try:\n",
    "        # Get movie id from the first search result\n",
    "        movie_id = search_data['results'][0]['id']\n",
    "\n",
    "        # Make a request for the full movie details\n",
    "        details_url = f\"https://api.themoviedb.org/3/movie/{movie_id}?api_key={tmdb_api_key}&append_to_response=credits\"\n",
    "        details_response = requests.get(details_url)\n",
    "        details_data = details_response.json()\n",
    "\n",
    "        # Extract the genre names into a list\n",
    "        genres = [genre['name'] for genre in details_data.get('genres', [])]\n",
    "\n",
    "        # Extract the spoken_languages' English name into a list\n",
    "        languages = [lang['english_name'] for lang in details_data.get('spoken_languages', [])]\n",
    "\n",
    "        # Extract the production_countries' name into a list\n",
    "        countries = [country['name'] for country in details_data.get('production_countries', [])]\n",
    "\n",
    "        # Add the relevant data to a dictionary and append it to the tmdb_movies_list list\n",
    "        movie_info = {\n",
    "            'title': details_data['title'],\n",
    "            'genres': genres,\n",
    "            'languages': languages,\n",
    "            'countries': countries\n",
    "        }\n",
    "        tmdb_movies_list.append(movie_info)\n",
    "\n",
    "        # Print out the title that was found\n",
    "        print(f\"Found and added details for {title}\")\n",
    "\n",
    "    except IndexError:\n",
    "        # This handles cases where the movie might not be found or the data is incomplete\n",
    "        print(f\"Movie not found or incomplete data for {title}\")\n",
    "    except KeyError:\n",
    "        # This handles unexpected missing fields in the data\n",
    "        print(f\"Unexpected data structure while processing {title}\")\n",
    "\n",
    "# Optionally print or process the collected movie details list\n",
    "print(tmdb_movies_list)\n"
   ]
  },
  {
   "cell_type": "code",
   "execution_count": 21,
   "metadata": {},
   "outputs": [
    {
     "name": "stdout",
     "output_type": "stream",
     "text": [
      "[\n",
      "    {\n",
      "        \"title\": \"Inception\",\n",
      "        \"genres\": [\n",
      "            \"Action\",\n",
      "            \"Science Fiction\",\n",
      "            \"Adventure\"\n",
      "        ],\n",
      "        \"languages\": [\n",
      "            \"English\",\n",
      "            \"French\",\n",
      "            \"Japanese\",\n",
      "            \"Swahili\"\n",
      "        ],\n",
      "        \"countries\": [\n",
      "            \"United Kingdom\",\n",
      "            \"United States of America\"\n",
      "        ]\n",
      "    },\n",
      "    {\n",
      "        \"title\": \"Avatar\",\n",
      "        \"genres\": [\n",
      "            \"Action\",\n",
      "            \"Adventure\",\n",
      "            \"Fantasy\",\n",
      "            \"Science Fiction\"\n",
      "        ],\n",
      "        \"languages\": [\n",
      "            \"English\",\n",
      "            \"Spanish\"\n",
      "        ],\n",
      "        \"countries\": [\n",
      "            \"United States of America\",\n",
      "            \"United Kingdom\"\n",
      "        ]\n",
      "    },\n",
      "    {\n",
      "        \"title\": \"The Matrix\",\n",
      "        \"genres\": [\n",
      "            \"Action\",\n",
      "            \"Science Fiction\"\n",
      "        ],\n",
      "        \"languages\": [\n",
      "            \"English\"\n",
      "        ],\n",
      "        \"countries\": [\n",
      "            \"United States of America\"\n",
      "        ]\n",
      "    },\n",
      "    {\n",
      "        \"title\": \"Interstellar\",\n",
      "        \"genres\": [\n",
      "            \"Adventure\",\n",
      "            \"Drama\",\n",
      "            \"Science Fiction\"\n",
      "        ],\n",
      "        \"languages\": [\n",
      "            \"English\"\n",
      "        ],\n",
      "        \"countries\": [\n",
      "            \"United Kingdom\",\n",
      "            \"United States of America\"\n",
      "        ]\n",
      "    },\n",
      "    {\n",
      "        \"title\": \"Gladiator\",\n",
      "        \"genres\": [\n",
      "            \"Action\",\n",
      "            \"Drama\",\n",
      "            \"Adventure\"\n",
      "        ],\n",
      "        \"languages\": [\n",
      "            \"English\"\n",
      "        ],\n",
      "        \"countries\": [\n",
      "            \"United Kingdom\",\n",
      "            \"United States of America\"\n",
      "        ]\n",
      "    }\n",
      "]\n"
     ]
    }
   ],
   "source": [
    "# Preview the first 5 results in JSON format\n",
    "# Use json.dumps with argument indent=4 to format data\n",
    "preview_json = json.dumps(tmdb_movies_list[:5], indent=4)\n",
    "print(preview_json)"
   ]
  },
  {
   "cell_type": "code",
   "execution_count": 25,
   "metadata": {},
   "outputs": [
    {
     "data": {
      "text/html": [
       "<div>\n",
       "<style scoped>\n",
       "    .dataframe tbody tr th:only-of-type {\n",
       "        vertical-align: middle;\n",
       "    }\n",
       "\n",
       "    .dataframe tbody tr th {\n",
       "        vertical-align: top;\n",
       "    }\n",
       "\n",
       "    .dataframe thead th {\n",
       "        text-align: right;\n",
       "    }\n",
       "</style>\n",
       "<table border=\"1\" class=\"dataframe\">\n",
       "  <thead>\n",
       "    <tr style=\"text-align: right;\">\n",
       "      <th></th>\n",
       "      <th>title</th>\n",
       "      <th>genres</th>\n",
       "      <th>languages</th>\n",
       "      <th>countries</th>\n",
       "    </tr>\n",
       "  </thead>\n",
       "  <tbody>\n",
       "    <tr>\n",
       "      <th>0</th>\n",
       "      <td>Inception</td>\n",
       "      <td>[Action, Science Fiction, Adventure]</td>\n",
       "      <td>[English, French, Japanese, Swahili]</td>\n",
       "      <td>[United Kingdom, United States of America]</td>\n",
       "    </tr>\n",
       "    <tr>\n",
       "      <th>1</th>\n",
       "      <td>Avatar</td>\n",
       "      <td>[Action, Adventure, Fantasy, Science Fiction]</td>\n",
       "      <td>[English, Spanish]</td>\n",
       "      <td>[United States of America, United Kingdom]</td>\n",
       "    </tr>\n",
       "    <tr>\n",
       "      <th>2</th>\n",
       "      <td>The Matrix</td>\n",
       "      <td>[Action, Science Fiction]</td>\n",
       "      <td>[English]</td>\n",
       "      <td>[United States of America]</td>\n",
       "    </tr>\n",
       "    <tr>\n",
       "      <th>3</th>\n",
       "      <td>Interstellar</td>\n",
       "      <td>[Adventure, Drama, Science Fiction]</td>\n",
       "      <td>[English]</td>\n",
       "      <td>[United Kingdom, United States of America]</td>\n",
       "    </tr>\n",
       "    <tr>\n",
       "      <th>4</th>\n",
       "      <td>Gladiator</td>\n",
       "      <td>[Action, Drama, Adventure]</td>\n",
       "      <td>[English]</td>\n",
       "      <td>[United Kingdom, United States of America]</td>\n",
       "    </tr>\n",
       "  </tbody>\n",
       "</table>\n",
       "</div>"
      ],
      "text/plain": [
       "          title                                         genres  \\\n",
       "0     Inception           [Action, Science Fiction, Adventure]   \n",
       "1        Avatar  [Action, Adventure, Fantasy, Science Fiction]   \n",
       "2    The Matrix                      [Action, Science Fiction]   \n",
       "3  Interstellar            [Adventure, Drama, Science Fiction]   \n",
       "4     Gladiator                     [Action, Drama, Adventure]   \n",
       "\n",
       "                              languages  \\\n",
       "0  [English, French, Japanese, Swahili]   \n",
       "1                    [English, Spanish]   \n",
       "2                             [English]   \n",
       "3                             [English]   \n",
       "4                             [English]   \n",
       "\n",
       "                                    countries  \n",
       "0  [United Kingdom, United States of America]  \n",
       "1  [United States of America, United Kingdom]  \n",
       "2                  [United States of America]  \n",
       "3  [United Kingdom, United States of America]  \n",
       "4  [United Kingdom, United States of America]  "
      ]
     },
     "execution_count": 25,
     "metadata": {},
     "output_type": "execute_result"
    }
   ],
   "source": [
    "# Convert the results to a DataFrame\n",
    "movies_df = pd.DataFrame(tmdb_movies_list)\n",
    "movies_df.head()"
   ]
  },
  {
   "cell_type": "markdown",
   "metadata": {},
   "source": [
    "### Merge and Clean the Data for Export"
   ]
  },
  {
   "cell_type": "code",
   "execution_count": 14,
   "metadata": {
    "scrolled": true
   },
   "outputs": [],
   "source": [
    "# Merge the New York Times reviews and TMDB DataFrames on title\n"
   ]
  },
  {
   "cell_type": "code",
   "execution_count": 15,
   "metadata": {},
   "outputs": [],
   "source": [
    "# Remove list brackets and quotation marks on the columns containing lists\n",
    "# Create a list of the columns that need fixing\n",
    "\n",
    "\n",
    "# Create a list of characters to remove\n",
    "\n",
    "\n",
    "# Loop through the list of columns to fix\n",
    "\n",
    "    # Convert the column to type 'str'\n",
    "\n",
    "\n",
    "    # Loop through characters to remove\n",
    "\n",
    "\n",
    "# Display the fixed DataFrame\n"
   ]
  },
  {
   "cell_type": "code",
   "execution_count": 16,
   "metadata": {},
   "outputs": [],
   "source": [
    "# Drop \"byline.person\" column\n"
   ]
  },
  {
   "cell_type": "code",
   "execution_count": 17,
   "metadata": {},
   "outputs": [],
   "source": [
    "# Delete duplicate rows and reset index\n"
   ]
  },
  {
   "cell_type": "code",
   "execution_count": 18,
   "metadata": {},
   "outputs": [],
   "source": [
    "# Export data to CSV without the index\n"
   ]
  },
  {
   "cell_type": "code",
   "execution_count": null,
   "metadata": {},
   "outputs": [],
   "source": []
  }
 ],
 "metadata": {
  "kernelspec": {
   "display_name": "Python 3 (ipykernel)",
   "language": "python",
   "name": "python3"
  },
  "language_info": {
   "codemirror_mode": {
    "name": "ipython",
    "version": 3
   },
   "file_extension": ".py",
   "mimetype": "text/x-python",
   "name": "python",
   "nbconvert_exporter": "python",
   "pygments_lexer": "ipython3",
   "version": "3.11.0"
  },
  "varInspector": {
   "cols": {
    "lenName": 16,
    "lenType": 16,
    "lenVar": 40
   },
   "kernels_config": {
    "python": {
     "delete_cmd_postfix": "",
     "delete_cmd_prefix": "del ",
     "library": "var_list.py",
     "varRefreshCmd": "print(var_dic_list())"
    },
    "r": {
     "delete_cmd_postfix": ") ",
     "delete_cmd_prefix": "rm(",
     "library": "var_list.r",
     "varRefreshCmd": "cat(var_dic_list()) "
    }
   },
   "types_to_exclude": [
    "module",
    "function",
    "builtin_function_or_method",
    "instance",
    "_Feature"
   ],
   "window_display": false
  }
 },
 "nbformat": 4,
 "nbformat_minor": 4
}
